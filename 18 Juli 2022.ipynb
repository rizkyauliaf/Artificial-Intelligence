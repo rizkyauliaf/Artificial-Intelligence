{
 "cells": [
  {
   "cell_type": "code",
   "execution_count": 1,
   "id": "0ddf3942",
   "metadata": {},
   "outputs": [
    {
     "name": "stdout",
     "output_type": "stream",
     "text": [
      "hello world\n",
      "hello world\n",
      "hello world\n"
     ]
    }
   ],
   "source": [
    "print('hello world')\n",
    "print(\"hello world\")\n",
    "# komentar, contoh untuk mencetak\n",
    "print(\"\"\"hello world\"\"\")"
   ]
  },
  {
   "cell_type": "code",
   "execution_count": 2,
   "id": "03f927b6",
   "metadata": {},
   "outputs": [
    {
     "data": {
      "text/plain": [
       "'C:\\\\Users\\\\User'"
      ]
     },
     "execution_count": 2,
     "metadata": {},
     "output_type": "execute_result"
    }
   ],
   "source": [
    "import os # import os module\n",
    "os.getcwd() # get the current working directory"
   ]
  },
  {
   "cell_type": "code",
   "execution_count": 3,
   "id": "e5fa9cc7",
   "metadata": {},
   "outputs": [
    {
     "name": "stdout",
     "output_type": "stream",
     "text": [
      "1\n"
     ]
    }
   ],
   "source": [
    "a = 1\n",
    "print(a)"
   ]
  },
  {
   "cell_type": "code",
   "execution_count": 4,
   "id": "e4e6e983",
   "metadata": {},
   "outputs": [
    {
     "name": "stdout",
     "output_type": "stream",
     "text": [
      "2\n"
     ]
    }
   ],
   "source": [
    "a = 2\n",
    "print(a)"
   ]
  },
  {
   "cell_type": "code",
   "execution_count": 5,
   "id": "8424af22",
   "metadata": {},
   "outputs": [
    {
     "name": "stdout",
     "output_type": "stream",
     "text": [
      "5\n"
     ]
    }
   ],
   "source": [
    "Aulia = 5\n",
    "print(Aulia)"
   ]
  },
  {
   "cell_type": "code",
   "execution_count": 6,
   "id": "879a1669",
   "metadata": {},
   "outputs": [
    {
     "name": "stdout",
     "output_type": "stream",
     "text": [
      "aulia adalah nama saya\n"
     ]
    }
   ],
   "source": [
    "aulia = \"aulia adalah nama saya\"\n",
    "print(aulia)"
   ]
  },
  {
   "cell_type": "code",
   "execution_count": 7,
   "id": "c7595bc8",
   "metadata": {},
   "outputs": [
    {
     "data": {
      "text/plain": [
       "['False',\n",
       " 'None',\n",
       " 'True',\n",
       " '__peg_parser__',\n",
       " 'and',\n",
       " 'as',\n",
       " 'assert',\n",
       " 'async',\n",
       " 'await',\n",
       " 'break',\n",
       " 'class',\n",
       " 'continue',\n",
       " 'def',\n",
       " 'del',\n",
       " 'elif',\n",
       " 'else',\n",
       " 'except',\n",
       " 'finally',\n",
       " 'for',\n",
       " 'from',\n",
       " 'global',\n",
       " 'if',\n",
       " 'import',\n",
       " 'in',\n",
       " 'is',\n",
       " 'lambda',\n",
       " 'nonlocal',\n",
       " 'not',\n",
       " 'or',\n",
       " 'pass',\n",
       " 'raise',\n",
       " 'return',\n",
       " 'try',\n",
       " 'while',\n",
       " 'with',\n",
       " 'yield']"
      ]
     },
     "execution_count": 7,
     "metadata": {},
     "output_type": "execute_result"
    }
   ],
   "source": [
    "import keyword\n",
    "keyword.kwlist"
   ]
  },
  {
   "cell_type": "code",
   "execution_count": 8,
   "id": "d64dfe3e",
   "metadata": {},
   "outputs": [
    {
     "name": "stdout",
     "output_type": "stream",
     "text": [
      "1\n",
      "2\n"
     ]
    }
   ],
   "source": [
    "a = 1\n",
    "b = 2\n",
    "print(a)\n",
    "print(b)"
   ]
  },
  {
   "cell_type": "code",
   "execution_count": 9,
   "id": "865c156b",
   "metadata": {},
   "outputs": [
    {
     "name": "stdout",
     "output_type": "stream",
     "text": [
      "2\n",
      "3\n",
      "1\n"
     ]
    }
   ],
   "source": [
    "a = 1\n",
    "b = 2\n",
    "c = 3\n",
    "#mengganti variabel a dg b, dst\n",
    "a,b,c = b,c,a\n",
    "print(a)\n",
    "print(b)\n",
    "print(c)\n"
   ]
  },
  {
   "cell_type": "code",
   "execution_count": 11,
   "id": "c3c55d5c",
   "metadata": {},
   "outputs": [
    {
     "name": "stdout",
     "output_type": "stream",
     "text": [
      "Reynaldi\n",
      "Fachry\n",
      "Yudha\n"
     ]
    }
   ],
   "source": [
    "a = \"Yudha\"\n",
    "b = \"Reynaldi\"\n",
    "c = \"Fachry\"\n",
    "#mengganti variabel a dg b, dst\n",
    "a,b,c = b,c,a\n",
    "print(a)\n",
    "print(b)\n",
    "print(c)"
   ]
  },
  {
   "cell_type": "code",
   "execution_count": 12,
   "id": "cc616ed1",
   "metadata": {},
   "outputs": [
    {
     "name": "stdout",
     "output_type": "stream",
     "text": [
      "1\n"
     ]
    }
   ],
   "source": [
    "x = 0\n",
    "y = 1\n",
    "print(x+y)"
   ]
  },
  {
   "cell_type": "code",
   "execution_count": 13,
   "id": "5ad83345",
   "metadata": {},
   "outputs": [
    {
     "name": "stdout",
     "output_type": "stream",
     "text": [
      "100\n"
     ]
    }
   ],
   "source": [
    "x = 25\n",
    "y = 4\n",
    "print(x*y)"
   ]
  },
  {
   "cell_type": "code",
   "execution_count": null,
   "id": "e59d36b7",
   "metadata": {},
   "outputs": [],
   "source": [
    "def func1():\n",
    "    a = 4\n",
    "    b = 1\n",
    "def func2():\n",
    "    c = 5\n",
    "    d = 3"
   ]
  },
  {
   "cell_type": "code",
   "execution_count": 1,
   "id": "c6c78cb6",
   "metadata": {},
   "outputs": [
    {
     "data": {
      "text/plain": [
       "2399742736000"
      ]
     },
     "execution_count": 1,
     "metadata": {},
     "output_type": "execute_result"
    }
   ],
   "source": [
    "a = \"saya ganti\"\n",
    "id(print)"
   ]
  },
  {
   "cell_type": "code",
   "execution_count": 2,
   "id": "12aa0e20",
   "metadata": {},
   "outputs": [
    {
     "data": {
      "text/plain": [
       "26"
      ]
     },
     "execution_count": 2,
     "metadata": {},
     "output_type": "execute_result"
    }
   ],
   "source": [
    "len(\"rizky aulia faridatuzzuhro\")"
   ]
  },
  {
   "cell_type": "code",
   "execution_count": 5,
   "id": "e0c063d6",
   "metadata": {},
   "outputs": [
    {
     "data": {
      "text/plain": [
       "float"
      ]
     },
     "execution_count": 5,
     "metadata": {},
     "output_type": "execute_result"
    }
   ],
   "source": [
    "a = 6.3\n",
    "type(a)"
   ]
  },
  {
   "cell_type": "code",
   "execution_count": 6,
   "id": "3aa4cb21",
   "metadata": {},
   "outputs": [
    {
     "name": "stdout",
     "output_type": "stream",
     "text": [
      "Riris Python\n",
      "aullia Python\n",
      "cantik\n",
      "\n",
      " Python\n",
      " \n",
      "<class 'str'>\n",
      "<class 'str'>\n",
      "<class 'str'>\n"
     ]
    }
   ],
   "source": [
    "s1 = \"Riris Python\"\n",
    "s2 = 'aullia Python' # in a single quote or double-quotes\n",
    "s3 = \"\"\"cantik\n",
    "\n",
    " Python\n",
    " \"\"\" # triple quotes for multiline strings and docstrings\n",
    "print(s1)\n",
    "print(s2)\n",
    "print(s3)\n",
    "print(type(s1))\n",
    "print(type(s2))\n",
    "print(type(s3))"
   ]
  },
  {
   "cell_type": "code",
   "execution_count": 7,
   "id": "f31d83f4",
   "metadata": {},
   "outputs": [
    {
     "name": "stdout",
     "output_type": "stream",
     "text": [
      "py\n",
      "thon\n"
     ]
    }
   ],
   "source": [
    "s = \"py\\nthon\" #\\n artinya ganti garis\n",
    "print(s)"
   ]
  },
  {
   "cell_type": "code",
   "execution_count": 8,
   "id": "2ed2810f",
   "metadata": {},
   "outputs": [
    {
     "name": "stdout",
     "output_type": "stream",
     "text": [
      "python\"\n"
     ]
    }
   ],
   "source": [
    "s = \"python\\\"\"\n",
    "print(s)"
   ]
  },
  {
   "cell_type": "code",
   "execution_count": 10,
   "id": "f7e8fb65",
   "metadata": {},
   "outputs": [
    {
     "name": "stdout",
     "output_type": "stream",
     "text": [
      "baris satu \n",
      " baris dua\n"
     ]
    }
   ],
   "source": [
    "s = \"baris satu \\n baris dua\" #\\n artinya ganti garis\n",
    "print(s)"
   ]
  },
  {
   "cell_type": "code",
   "execution_count": 11,
   "id": "62538147",
   "metadata": {},
   "outputs": [
    {
     "data": {
      "text/plain": [
       "'r'"
      ]
     },
     "execution_count": 11,
     "metadata": {},
     "output_type": "execute_result"
    }
   ],
   "source": [
    "s = \"rizky\" #cek kata ke berapa\n",
    "s[0]"
   ]
  },
  {
   "cell_type": "code",
   "execution_count": 13,
   "id": "35407549",
   "metadata": {},
   "outputs": [
    {
     "data": {
      "text/plain": [
       "'aaml'"
      ]
     },
     "execution_count": 13,
     "metadata": {},
     "output_type": "execute_result"
    }
   ],
   "source": [
    "s = \"assalamualaikum\"\n",
    "s[0:10:3]# mengeluarkan 0 < 10 loncat 3"
   ]
  },
  {
   "cell_type": "code",
   "execution_count": 14,
   "id": "1d7c2686",
   "metadata": {},
   "outputs": [
    {
     "data": {
      "text/plain": [
       "'m'"
      ]
     },
     "execution_count": 14,
     "metadata": {},
     "output_type": "execute_result"
    }
   ],
   "source": [
    "s = \"assalamualaikum\"\n",
    "s[0:10:3]# mengeluarkan 0 < 10 loncat 3 karakter\n",
    "s[-1] #dari belakang"
   ]
  },
  {
   "cell_type": "code",
   "execution_count": 15,
   "id": "250d7e26",
   "metadata": {},
   "outputs": [
    {
     "data": {
      "text/plain": [
       "'ABCthon'"
      ]
     },
     "execution_count": 15,
     "metadata": {},
     "output_type": "execute_result"
    }
   ],
   "source": [
    "s = 'python'\n",
    "s.replace('py','ABC')"
   ]
  },
  {
   "cell_type": "code",
   "execution_count": 16,
   "id": "fc921b1a",
   "metadata": {},
   "outputs": [
    {
     "data": {
      "text/plain": [
       "'python--is--cool'"
      ]
     },
     "execution_count": 16,
     "metadata": {},
     "output_type": "execute_result"
    }
   ],
   "source": [
    "\"--\".join(['python', 'is', 'cool'])"
   ]
  },
  {
   "cell_type": "code",
   "execution_count": 19,
   "id": "d4a4e881",
   "metadata": {},
   "outputs": [
    {
     "name": "stdout",
     "output_type": "stream",
     "text": [
      "[1, 2, 3, 4, 5]\n"
     ]
    }
   ],
   "source": [
    "l = [1,2,3,4,5]\n",
    "print(l)"
   ]
  },
  {
   "cell_type": "code",
   "execution_count": 21,
   "id": "8039c6a6",
   "metadata": {},
   "outputs": [
    {
     "data": {
      "text/plain": [
       "[1, 3]"
      ]
     },
     "execution_count": 21,
     "metadata": {},
     "output_type": "execute_result"
    }
   ],
   "source": [
    "l[0:4:2]"
   ]
  },
  {
   "cell_type": "code",
   "execution_count": 25,
   "id": "f573643d",
   "metadata": {},
   "outputs": [
    {
     "name": "stdout",
     "output_type": "stream",
     "text": [
      "silahkan masukkan nilai: 70\n",
      "C\n"
     ]
    }
   ],
   "source": [
    "score = input(\"silahkan masukkan nilai: \")\n",
    "score = float(score) #mengganti tipe data string ke dalam float\n",
    "if 100>=score>=90: # set conditions by if-elif-else statements\n",
    " print(\"A\")\n",
    "elif 90 > score >= 80:\n",
    " print(\"B\")\n",
    "elif 80>score>=60:\n",
    " print(\"C\")\n",
    "elif 60>score>=0:\n",
    " print(\"F\")\n",
    "else:\n",
    " print(\"Please enter a correct score \")\n"
   ]
  },
  {
   "cell_type": "code",
   "execution_count": null,
   "id": "55879d3a",
   "metadata": {},
   "outputs": [],
   "source": []
  }
 ],
 "metadata": {
  "kernelspec": {
   "display_name": "Python 3 (ipykernel)",
   "language": "python",
   "name": "python3"
  },
  "language_info": {
   "codemirror_mode": {
    "name": "ipython",
    "version": 3
   },
   "file_extension": ".py",
   "mimetype": "text/x-python",
   "name": "python",
   "nbconvert_exporter": "python",
   "pygments_lexer": "ipython3",
   "version": "3.9.12"
  }
 },
 "nbformat": 4,
 "nbformat_minor": 5
}
