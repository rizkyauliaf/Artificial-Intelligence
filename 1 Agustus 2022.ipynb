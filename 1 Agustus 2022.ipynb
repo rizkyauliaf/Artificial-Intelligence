{
 "cells": [
  {
   "cell_type": "code",
   "execution_count": 1,
   "id": "7ad556c5",
   "metadata": {},
   "outputs": [
    {
     "name": "stdout",
     "output_type": "stream",
     "text": [
      "Dimension of training data:  (60000, 28, 28)\n",
      "Dimension of test data:  (10000, 28, 28)\n",
      "Training label: [0 1 2 3 4 5 6 7 8 9]\n"
     ]
    }
   ],
   "source": [
    "import os\n",
    "import tensorflow as tf\n",
    "from tensorflow import keras\n",
    "from tensorflow.keras import layers, optimizers, datasets\n",
    "from tensorflow.keras.layers import Dense, Conv2D, MaxPool2D, Dropout, Flatten\n",
    "from tensorflow.keras.layers import GlobalMaxPooling2D, GlobalAveragePooling2D\n",
    "from matplotlib import pyplot as plt\n",
    "import numpy as np\n",
    "\n",
    "# load mnist data\n",
    "(x_train_raw, y_train_raw), (x_test_raw, y_test_raw) = datasets.mnist.load_data()\n",
    "\n",
    "print(\"Dimension of training data: \", x_train_raw.shape)\n",
    "print(\"Dimension of test data: \", x_test_raw.shape)\n",
    "print('Training label:', np.unique(y_train_raw))"
   ]
  },
  {
   "cell_type": "code",
   "execution_count": 3,
   "id": "5628d22a",
   "metadata": {},
   "outputs": [],
   "source": [
    "from mindspore import context\n",
    "\n",
    "context.set_context(mode=context.GRAPH_MODE, device_target=\"CPU\")"
   ]
  },
  {
   "cell_type": "code",
   "execution_count": 4,
   "id": "eb6cbbef",
   "metadata": {},
   "outputs": [
    {
     "name": "stdout",
     "output_type": "stream",
     "text": [
      "Example : \n",
      "Label before conversion:  5\n",
      "Label after conversion:  [0. 0. 0. 0. 0. 1. 0. 0. 0. 0.]\n"
     ]
    }
   ],
   "source": [
    "num_classes = 10\n",
    "\n",
    "y_train = keras.utils.to_categorical(y_train_raw, num_classes)\n",
    "y_test = keras.utils.to_categorical(y_test_raw, num_classes)\n",
    "\n",
    "print(\"Example : \")\n",
    "print(\"Label before conversion: \", y_train_raw[0])\n",
    "print(\"Label after conversion: \", y_train[0])\n"
   ]
  },
  {
   "cell_type": "code",
   "execution_count": 5,
   "id": "61a0c320",
   "metadata": {},
   "outputs": [
    {
     "data": {
      "image/png": "[encoded data removed]",
      "text/plain": [
       "<Figure size 576x576 with 9 Axes>"
      ]
     },
     "metadata": {
      "needs_background": "light"
     },
     "output_type": "display_data"
    }
   ],
   "source": [
    "# plot some samples\n",
    "plt.figure(figsize=(8,8))\n",
    "for i in range(9):\n",
    "    plt.subplot(3,3,i+1)\n",
    "    plt.imshow(x_train_raw[i], cmap=\"gray\")\n",
    "    plt.title(\"Sample of digit \" + str(y_train_raw[i]))\n",
    "    plt.axis(\"off\")"
   ]
  },
  {
   "cell_type": "code",
   "execution_count": 6,
   "id": "8fb358f3",
   "metadata": {},
   "outputs": [
    {
     "name": "stdout",
     "output_type": "stream",
     "text": [
      "Dimension of training data:  (60000, 784)\n",
      "Dimension of test data:  (10000, 784)\n"
     ]
    }
   ],
   "source": [
    "# reshape the data\n",
    "# Convert a 28 x 28 image into a 784 x 1 vector.\n",
    "x_train = x_train_raw.reshape([x_train_raw.shape[0], \n",
    "                               x_train_raw.shape[1]*x_train_raw.shape[2]])\n",
    "x_test = x_test_raw.reshape([x_test_raw.shape[0], \n",
    "                             x_test_raw.shape[1]*x_test_raw.shape[2]])\n",
    "\n",
    "# normalize image pixel value\n",
    "x_train = x_train.astype(\"float32\")/255\n",
    "x_test = x_test.astype(\"float32\")/255\n",
    "\n",
    "print(\"Dimension of training data: \", x_train.shape)\n",
    "print(\"Dimension of test data: \", x_test.shape)"
   ]
  },
  {
   "cell_type": "code",
   "execution_count": 7,
   "id": "ad18c43d",
   "metadata": {},
   "outputs": [
    {
     "name": "stdout",
     "output_type": "stream",
     "text": [
      "Model: \"sequential\"\n",
      "_________________________________________________________________\n",
      " Layer (type)                Output Shape              Param #   \n",
      "=================================================================\n",
      " dense (Dense)               (None, 512)               401920    \n",
      "                                                                 \n",
      " dense_1 (Dense)             (None, 256)               131328    \n",
      "                                                                 \n",
      " dense_2 (Dense)             (None, 128)               32896     \n",
      "                                                                 \n",
      " dense_3 (Dense)             (None, 10)                1290      \n",
      "                                                                 \n",
      "=================================================================\n",
      "Total params: 567,434\n",
      "Trainable params: 567,434\n",
      "Non-trainable params: 0\n",
      "_________________________________________________________________\n"
     ]
    }
   ],
   "source": [
    "input_shape = (x_train.shape[1],)\n",
    "model = tf.keras.Sequential([\n",
    "    Dense(units=512, activation=\"relu\", input_shape=input_shape),\n",
    "    Dense(units=256, activation=\"relu\"),\n",
    "    Dense(units=128, activation=\"relu\"),\n",
    "    Dense(units=num_classes, activation=\"softmax\")\n",
    "])\n",
    "\n",
    "model.summary()"
   ]
  },
  {
   "cell_type": "code",
   "execution_count": 8,
   "id": "7e9c0c96",
   "metadata": {},
   "outputs": [],
   "source": [
    "use_optimizers = optimizers.Adam(0.001)\n",
    "model.compile(loss=keras.losses.categorical_crossentropy,\n",
    "             optimizer=use_optimizers,\n",
    "             metrics=[\"accuracy\"])"
   ]
  },
  {
   "cell_type": "code",
   "execution_count": 9,
   "id": "cd450068",
   "metadata": {},
   "outputs": [
    {
     "name": "stdout",
     "output_type": "stream",
     "text": [
      "Epoch 1/10\n",
      "469/469 [==============================] - 4s 7ms/step - loss: 0.2316 - accuracy: 0.9320\n",
      "Epoch 2/10\n",
      "469/469 [==============================] - 3s 6ms/step - loss: 0.0858 - accuracy: 0.9731\n",
      "Epoch 3/10\n",
      "469/469 [==============================] - 3s 6ms/step - loss: 0.0556 - accuracy: 0.9819\n",
      "Epoch 4/10\n",
      "469/469 [==============================] - 3s 7ms/step - loss: 0.0399 - accuracy: 0.9877\n",
      "Epoch 5/10\n",
      "469/469 [==============================] - 3s 6ms/step - loss: 0.0291 - accuracy: 0.9904\n",
      "Epoch 6/10\n",
      "469/469 [==============================] - 3s 6ms/step - loss: 0.0287 - accuracy: 0.9907\n",
      "Epoch 7/10\n",
      "469/469 [==============================] - 3s 6ms/step - loss: 0.0214 - accuracy: 0.9931\n",
      "Epoch 8/10\n",
      "469/469 [==============================] - 3s 6ms/step - loss: 0.0180 - accuracy: 0.9941\n",
      "Epoch 9/10\n",
      "469/469 [==============================] - 3s 6ms/step - loss: 0.0190 - accuracy: 0.9937\n",
      "Epoch 10/10\n",
      "469/469 [==============================] - 3s 7ms/step - loss: 0.0134 - accuracy: 0.9952\n"
     ]
    },
    {
     "data": {
      "text/plain": [
       "<keras.callbacks.History at 0x14ea11541c0>"
      ]
     },
     "execution_count": 9,
     "metadata": {},
     "output_type": "execute_result"
    }
   ],
   "source": [
    "model.fit(x_train, y_train,\n",
    "         batch_size=128,\n",
    "         epochs=10,\n",
    "         verbose=1)"
   ]
  },
  {
   "cell_type": "code",
   "execution_count": 11,
   "id": "2bcc3956",
   "metadata": {},
   "outputs": [],
   "source": [
    "model.save('E:\\Ai/model_dnn.h5')"
   ]
  },
  {
   "cell_type": "code",
   "execution_count": 13,
   "id": "310a4bf8",
   "metadata": {},
   "outputs": [],
   "source": [
    "import tensorflow as tf\n",
    "from tensorflow import keras\n",
    "import numpy as np\n",
    "\n",
    "input_shape1 = (28, 28, 1)\n",
    "model1 = keras.Sequential() # Create a network sequence.\n",
    "\n",
    "# Add the first convolutional layer and pooling layer.\n",
    "model1.add(Conv2D(filters=32, kernel_size=5, strides=(1,1), padding=\"same\", activation=\"relu\", input_shape=input_shape1))\n",
    "model1.add(MaxPool2D(pool_size=(2,2), strides=(2,2), padding = \"valid\"))\n",
    "\n",
    "# Add the second convolutional layer and pooling layer.\n",
    "model1.add(Conv2D(filters=64, kernel_size=3, strides=(1,1), padding=\"same\", activation=\"relu\"))\n",
    "model1.add(MaxPool2D(pool_size=(2,2), strides =(2,2), padding=\"valid\"))\n",
    "\n",
    "# Add a dropout layer to reduce overfitting.\n",
    "model1.add(Dropout(0.25))\n",
    "model1.add(Flatten())\n",
    "# model1.add(GlobalAveragePooling2D())\n",
    "# model1.add(GlobalMaxPooling2D())\n",
    "\n",
    "# Add two fully connected layers.\n",
    "model1.add(Dense(units=128, activation=\"relu\"))\n",
    "model1.add(Dropout(0.5))\n",
    "model1.add(Dense(units=10, activation=\"softmax\"))\n"
   ]
  },
  {
   "cell_type": "code",
   "execution_count": 14,
   "id": "c4fb4b2b",
   "metadata": {},
   "outputs": [],
   "source": [
    "X_train = x_train.reshape(60000, 28, 28, 1)\n",
    "X_test = x_test.reshape(10000, 28, 28, 1)\n",
    "\n",
    "model1.compile(optimizer=\"adam\",\n",
    "              loss=\"categorical_crossentropy\", \n",
    "               metrics=['accuracy'])"
   ]
  },
  {
   "cell_type": "code",
   "execution_count": 15,
   "id": "09f72ea2",
   "metadata": {},
   "outputs": [
    {
     "name": "stdout",
     "output_type": "stream",
     "text": [
      "Epoch 1/5\n",
      "469/469 [==============================] - 34s 69ms/step - loss: 0.2704 - accuracy: 0.9146\n",
      "Epoch 2/5\n",
      "469/469 [==============================] - 30s 64ms/step - loss: 0.0882 - accuracy: 0.9740\n",
      "Epoch 3/5\n",
      "469/469 [==============================] - 29s 62ms/step - loss: 0.0675 - accuracy: 0.9803\n",
      "Epoch 4/5\n",
      "469/469 [==============================] - 29s 62ms/step - loss: 0.0541 - accuracy: 0.9837\n",
      "Epoch 5/5\n",
      "469/469 [==============================] - 30s 63ms/step - loss: 0.0483 - accuracy: 0.9856\n"
     ]
    }
   ],
   "source": [
    "history = model1.fit(x=X_train, y=y_train, \n",
    "                    epochs=5, \n",
    "                    batch_size=128)"
   ]
  },
  {
   "cell_type": "code",
   "execution_count": 16,
   "id": "2dac4b75",
   "metadata": {},
   "outputs": [
    {
     "data": {
      "image/png": "[encoded data removed]",
      "text/plain": [
       "<Figure size 720x576 with 2 Axes>"
      ]
     },
     "metadata": {
      "needs_background": "light"
     },
     "output_type": "display_data"
    }
   ],
   "source": [
    "epochs=5\n",
    "\n",
    "# get training statistics\n",
    "acc = history.history['accuracy']\n",
    "# val_acc = history.history['val_accuracy']\n",
    "loss=history.history['loss']\n",
    "# val_loss=history.history['val_loss']\n",
    "\n",
    "epochs_range = range(epochs)\n",
    "\n",
    "# plot training result\n",
    "plt.figure(figsize=(10, 8))\n",
    "plt.subplot(1, 2, 1)\n",
    "plt.plot(epochs_range, acc, label='Training Accuracy')\n",
    "# plt.plot(epochs_range, val_acc, label='Validation Accuracy')\n",
    "plt.legend(loc='lower right')\n",
    "plt.title('Training Accuracy')\n",
    "\n",
    "plt.subplot(1, 2, 2)\n",
    "plt.plot(epochs_range, loss, label='Training Loss')\n",
    "# plt.plot(epochs_range, val_loss, label='Validation Loss')\n",
    "plt.legend(loc='upper right')\n",
    "plt.title('Training Loss')\n",
    "plt.show()"
   ]
  },
  {
   "cell_type": "code",
   "execution_count": 17,
   "id": "ad692b6f",
   "metadata": {},
   "outputs": [
    {
     "name": "stdout",
     "output_type": "stream",
     "text": [
      "313/313 [==============================] - 3s 9ms/step - loss: 0.0250 - accuracy: 0.9913\n",
      "Test Accuracy 0.99\n"
     ]
    }
   ],
   "source": [
    "test_loss, test_acc = model1.evaluate(x=X_test, y=y_test)\n",
    "print(\"Test Accuracy %.2f\"%test_acc)"
   ]
  },
  {
   "cell_type": "code",
   "execution_count": 18,
   "id": "9902cf98",
   "metadata": {},
   "outputs": [],
   "source": [
    "model.save('E:\\Ai/model_cnn.h5')"
   ]
  },
  {
   "cell_type": "code",
   "execution_count": null,
   "id": "98d145e6",
   "metadata": {},
   "outputs": [],
   "source": []
  }
 ],
 "metadata": {
  "kernelspec": {
   "display_name": "Python 3 (ipykernel)",
   "language": "python",
   "name": "python3"
  },
  "language_info": {
   "codemirror_mode": {
    "name": "ipython",
    "version": 3
   },
   "file_extension": ".py",
   "mimetype": "text/x-python",
   "name": "python",
   "nbconvert_exporter": "python",
   "pygments_lexer": "ipython3",
   "version": "3.9.12"
  }
 },
 "nbformat": 4,
 "nbformat_minor": 5
}
